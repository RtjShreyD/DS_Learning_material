{
 "cells": [
  {
   "cell_type": "markdown",
   "metadata": {},
   "source": [
    "# Naive Bayes (the easy way)"
   ]
  },
  {
   "cell_type": "markdown",
   "metadata": {},
   "source": [
    "We'll cheat by using sklearn.naive_bayes to train a spam classifier! Most of the code is just loading our training data into a pandas DataFrame that we can play with:"
   ]
  },
  {
   "cell_type": "code",
   "execution_count": 1,
   "metadata": {},
   "outputs": [],
   "source": [
    "import os\n",
    "import io\n",
    "import numpy\n",
    "from pandas import DataFrame\n",
    "from sklearn.feature_extraction.text import CountVectorizer\n",
    "from sklearn.naive_bayes import MultinomialNB\n",
    "\n",
    "def readFiles(path):\n",
    "    for root, dirnames, filenames in os.walk(path):\n",
    "        for filename in filenames:\n",
    "            path = os.path.join(root, filename)\n",
    "\n",
    "            inBody = False\n",
    "            lines = []\n",
    "            f = io.open(path, 'r', encoding='latin1')\n",
    "            for line in f:\n",
    "                if inBody:\n",
    "                    lines.append(line)\n",
    "                elif line == '\\n':\n",
    "                    inBody = True\n",
    "            f.close()\n",
    "            message = '\\n'.join(lines)\n",
    "            yield path, message\n",
    "\n",
    "\n",
    "def dataFrameFromDirectory(path, classification):\n",
    "    rows = []\n",
    "    index = []\n",
    "    for filename, message in readFiles(path):\n",
    "        rows.append({'message': message, 'class': classification})\n",
    "        index.append(filename)\n",
    "\n",
    "    return DataFrame(rows, index=index)\n",
    "\n",
    "data = DataFrame({'message': [], 'class': []})\n",
    "\n",
    "data = data.append(dataFrameFromDirectory('emails/spam', 'spam'))\n",
    "data = data.append(dataFrameFromDirectory('emails/ham', 'ham'))\n"
   ]
  },
  {
   "cell_type": "markdown",
   "metadata": {},
   "source": [
    "Let's have a look at that DataFrame:"
   ]
  },
  {
   "cell_type": "code",
   "execution_count": 4,
   "metadata": {},
   "outputs": [
    {
     "data": {
      "text/html": [
       "<div>\n",
       "<style scoped>\n",
       "    .dataframe tbody tr th:only-of-type {\n",
       "        vertical-align: middle;\n",
       "    }\n",
       "\n",
       "    .dataframe tbody tr th {\n",
       "        vertical-align: top;\n",
       "    }\n",
       "\n",
       "    .dataframe thead th {\n",
       "        text-align: right;\n",
       "    }\n",
       "</style>\n",
       "<table border=\"1\" class=\"dataframe\">\n",
       "  <thead>\n",
       "    <tr style=\"text-align: right;\">\n",
       "      <th></th>\n",
       "      <th>message</th>\n",
       "      <th>class</th>\n",
       "    </tr>\n",
       "  </thead>\n",
       "  <tbody>\n",
       "    <tr>\n",
       "      <th>emails/spam/00400.cc74b7994a7282f32ee2a3b7e3634d31</th>\n",
       "      <td>Our delightful garden ornaments combine the fi...</td>\n",
       "      <td>spam</td>\n",
       "    </tr>\n",
       "    <tr>\n",
       "      <th>emails/spam/00303.22239f1393297a691eb5df3dfe7a5001</th>\n",
       "      <td>------=_NextPart_000_00E4_17A73C2D.E7104E07\\n\\...</td>\n",
       "      <td>spam</td>\n",
       "    </tr>\n",
       "    <tr>\n",
       "      <th>emails/spam/00157.52b0a260de7c64f539b0e5d16198b5bf</th>\n",
       "      <td>I am Mr.IKE EJOH. Bank Manager of Diamond Bank...</td>\n",
       "      <td>spam</td>\n",
       "    </tr>\n",
       "    <tr>\n",
       "      <th>emails/spam/00233.a268478ca6f03604012ffff8dd3de396</th>\n",
       "      <td>&lt;HTML&gt;&lt;HEAD&gt;&lt;TITLE&gt;&lt;/TITLE&gt;&lt;META http-equiv=3D...</td>\n",
       "      <td>spam</td>\n",
       "    </tr>\n",
       "    <tr>\n",
       "      <th>emails/spam/00401.309e29417819ce39d8599047d50933cc</th>\n",
       "      <td>A great sponsor will not make you money.\\n\\nA ...</td>\n",
       "      <td>spam</td>\n",
       "    </tr>\n",
       "  </tbody>\n",
       "</table>\n",
       "</div>"
      ],
      "text/plain": [
       "                                                                                              message  \\\n",
       "emails/spam/00400.cc74b7994a7282f32ee2a3b7e3634d31  Our delightful garden ornaments combine the fi...   \n",
       "emails/spam/00303.22239f1393297a691eb5df3dfe7a5001  ------=_NextPart_000_00E4_17A73C2D.E7104E07\\n\\...   \n",
       "emails/spam/00157.52b0a260de7c64f539b0e5d16198b5bf  I am Mr.IKE EJOH. Bank Manager of Diamond Bank...   \n",
       "emails/spam/00233.a268478ca6f03604012ffff8dd3de396  <HTML><HEAD><TITLE></TITLE><META http-equiv=3D...   \n",
       "emails/spam/00401.309e29417819ce39d8599047d50933cc  A great sponsor will not make you money.\\n\\nA ...   \n",
       "\n",
       "                                                   class  \n",
       "emails/spam/00400.cc74b7994a7282f32ee2a3b7e3634d31  spam  \n",
       "emails/spam/00303.22239f1393297a691eb5df3dfe7a5001  spam  \n",
       "emails/spam/00157.52b0a260de7c64f539b0e5d16198b5bf  spam  \n",
       "emails/spam/00233.a268478ca6f03604012ffff8dd3de396  spam  \n",
       "emails/spam/00401.309e29417819ce39d8599047d50933cc  spam  "
      ]
     },
     "execution_count": 4,
     "metadata": {},
     "output_type": "execute_result"
    }
   ],
   "source": [
    "data.head()"
   ]
  },
  {
   "cell_type": "markdown",
   "metadata": {},
   "source": [
    "Now we will use a CountVectorizer to split up each message into its list of words, and throw that into a MultinomialNB classifier. Call fit() and we've got a trained spam filter ready to go! It's just that easy."
   ]
  },
  {
   "cell_type": "code",
   "execution_count": 5,
   "metadata": {},
   "outputs": [
    {
     "data": {
      "text/plain": [
       "MultinomialNB(alpha=1.0, class_prior=None, fit_prior=True)"
      ]
     },
     "execution_count": 5,
     "metadata": {},
     "output_type": "execute_result"
    }
   ],
   "source": [
    "vectorizer = CountVectorizer()\n",
    "counts = vectorizer.fit_transform(data['message'].values)\n",
    "\n",
    "classifier = MultinomialNB()\n",
    "targets = data['class'].values\n",
    "classifier.fit(counts, targets)"
   ]
  },
  {
   "cell_type": "markdown",
   "metadata": {},
   "source": [
    "Let's try it out:"
   ]
  },
  {
   "cell_type": "code",
   "execution_count": 11,
   "metadata": {},
   "outputs": [
    {
     "data": {
      "text/plain": [
       "array(['spam', 'ham'], dtype='<U4')"
      ]
     },
     "execution_count": 11,
     "metadata": {},
     "output_type": "execute_result"
    }
   ],
   "source": [
    "examples = ['Free Viagra now!!!', \"Hi Bob, how about a game of golf tomorrow?\"]\n",
    "example_counts = vectorizer.transform(examples)\n",
    "predictions = classifier.predict(example_counts)\n",
    "predictions"
   ]
  },
  {
   "cell_type": "markdown",
   "metadata": {},
   "source": [
    "## Activity"
   ]
  },
  {
   "cell_type": "markdown",
   "metadata": {},
   "source": [
    "Our data set is small, so our spam classifier isn't actually very good. Try running some different test emails through it and see if you get the results you expect.\n",
    "\n",
    "If you really want to challenge yourself, try applying train/test to this spam classifier - see how well it can predict some subset of the ham and spam emails."
   ]
  },
  {
   "cell_type": "code",
   "execution_count": 19,
   "metadata": {},
   "outputs": [
    {
     "data": {
      "text/html": [
       "<div>\n",
       "<style scoped>\n",
       "    .dataframe tbody tr th:only-of-type {\n",
       "        vertical-align: middle;\n",
       "    }\n",
       "\n",
       "    .dataframe tbody tr th {\n",
       "        vertical-align: top;\n",
       "    }\n",
       "\n",
       "    .dataframe thead th {\n",
       "        text-align: right;\n",
       "    }\n",
       "</style>\n",
       "<table border=\"1\" class=\"dataframe\">\n",
       "  <thead>\n",
       "    <tr style=\"text-align: right;\">\n",
       "      <th></th>\n",
       "      <th>message</th>\n",
       "      <th>class</th>\n",
       "    </tr>\n",
       "  </thead>\n",
       "  <tbody>\n",
       "    <tr>\n",
       "      <th>emails/ham/00076.5aa682e393bfbef53e244acf3b2d23d6</th>\n",
       "      <td>On Fri, 23 Aug 2002, Tom wrote:\\n\\n\\n\\n--]\\n\\n...</td>\n",
       "      <td>ham</td>\n",
       "    </tr>\n",
       "    <tr>\n",
       "      <th>emails/ham/00629.370fec99ddca8da57ef5cb0bf30375e5</th>\n",
       "      <td>Church, AA, same diff?\\n\\n\\n\\n;-).\\n\\n\\n\\nChee...</td>\n",
       "      <td>ham</td>\n",
       "    </tr>\n",
       "    <tr>\n",
       "      <th>emails/ham/00828.709e1ec58a2bf04455cdf5c0c83f444c</th>\n",
       "      <td>Hello Bill,\\n\\n\\n\\nMonday, September 30, 2002,...</td>\n",
       "      <td>ham</td>\n",
       "    </tr>\n",
       "    <tr>\n",
       "      <th>emails/ham/00724.06d186a9890c1bc07b1e0bd89b7efb8f</th>\n",
       "      <td>&gt;&gt;&gt;&gt;&gt; \"J\" == Jim Whitehead &lt;ejw@cse.ucsc.edu&gt; ...</td>\n",
       "      <td>ham</td>\n",
       "    </tr>\n",
       "    <tr>\n",
       "      <th>emails/ham/00424.9975dd35a0bc8834d9ccd7dfb27ae7e6</th>\n",
       "      <td>\\n\\nOur preschoolers (2 and 4) use Winamp with...</td>\n",
       "      <td>ham</td>\n",
       "    </tr>\n",
       "  </tbody>\n",
       "</table>\n",
       "</div>"
      ],
      "text/plain": [
       "                                                                                             message  \\\n",
       "emails/ham/00076.5aa682e393bfbef53e244acf3b2d23d6  On Fri, 23 Aug 2002, Tom wrote:\\n\\n\\n\\n--]\\n\\n...   \n",
       "emails/ham/00629.370fec99ddca8da57ef5cb0bf30375e5  Church, AA, same diff?\\n\\n\\n\\n;-).\\n\\n\\n\\nChee...   \n",
       "emails/ham/00828.709e1ec58a2bf04455cdf5c0c83f444c  Hello Bill,\\n\\n\\n\\nMonday, September 30, 2002,...   \n",
       "emails/ham/00724.06d186a9890c1bc07b1e0bd89b7efb8f  >>>>> \"J\" == Jim Whitehead <ejw@cse.ucsc.edu> ...   \n",
       "emails/ham/00424.9975dd35a0bc8834d9ccd7dfb27ae7e6  \\n\\nOur preschoolers (2 and 4) use Winamp with...   \n",
       "\n",
       "                                                  class  \n",
       "emails/ham/00076.5aa682e393bfbef53e244acf3b2d23d6   ham  \n",
       "emails/ham/00629.370fec99ddca8da57ef5cb0bf30375e5   ham  \n",
       "emails/ham/00828.709e1ec58a2bf04455cdf5c0c83f444c   ham  \n",
       "emails/ham/00724.06d186a9890c1bc07b1e0bd89b7efb8f   ham  \n",
       "emails/ham/00424.9975dd35a0bc8834d9ccd7dfb27ae7e6   ham  "
      ]
     },
     "execution_count": 19,
     "metadata": {},
     "output_type": "execute_result"
    }
   ],
   "source": [
    "import pandas as pd\n",
    "from sklearn.model_selection import train_test_split\n",
    "\n",
    "data.tail()"
   ]
  },
  {
   "cell_type": "code",
   "execution_count": 63,
   "metadata": {},
   "outputs": [
    {
     "data": {
      "text/html": [
       "<div>\n",
       "<style scoped>\n",
       "    .dataframe tbody tr th:only-of-type {\n",
       "        vertical-align: middle;\n",
       "    }\n",
       "\n",
       "    .dataframe tbody tr th {\n",
       "        vertical-align: top;\n",
       "    }\n",
       "\n",
       "    .dataframe thead th {\n",
       "        text-align: right;\n",
       "    }\n",
       "</style>\n",
       "<table border=\"1\" class=\"dataframe\">\n",
       "  <thead>\n",
       "    <tr style=\"text-align: right;\">\n",
       "      <th></th>\n",
       "      <th>message</th>\n",
       "      <th>class</th>\n",
       "    </tr>\n",
       "  </thead>\n",
       "  <tbody>\n",
       "    <tr>\n",
       "      <th>0</th>\n",
       "      <td>On Tue, 1 Oct 2002, Angles Puglisi wrote:\\n\\n\\...</td>\n",
       "      <td>ham</td>\n",
       "    </tr>\n",
       "    <tr>\n",
       "      <th>1</th>\n",
       "      <td>1) Lose 22.5lbs in 3 weeks!\\n\\nFlush Fat Away ...</td>\n",
       "      <td>spam</td>\n",
       "    </tr>\n",
       "    <tr>\n",
       "      <th>2</th>\n",
       "      <td>On Wed, 18 Sep 2002, Tom wrote:\\n\\n\\n\\n&gt; The o...</td>\n",
       "      <td>ham</td>\n",
       "    </tr>\n",
       "    <tr>\n",
       "      <th>3</th>\n",
       "      <td>URL: http://www.newsisfree.com/click/-1,862212...</td>\n",
       "      <td>ham</td>\n",
       "    </tr>\n",
       "    <tr>\n",
       "      <th>4</th>\n",
       "      <td>This is a multi-part message in MIME format.\\n...</td>\n",
       "      <td>spam</td>\n",
       "    </tr>\n",
       "  </tbody>\n",
       "</table>\n",
       "</div>"
      ],
      "text/plain": [
       "                                             message class\n",
       "0  On Tue, 1 Oct 2002, Angles Puglisi wrote:\\n\\n\\...   ham\n",
       "1  1) Lose 22.5lbs in 3 weeks!\\n\\nFlush Fat Away ...  spam\n",
       "2  On Wed, 18 Sep 2002, Tom wrote:\\n\\n\\n\\n> The o...   ham\n",
       "3  URL: http://www.newsisfree.com/click/-1,862212...   ham\n",
       "4  This is a multi-part message in MIME format.\\n...  spam"
      ]
     },
     "execution_count": 63,
     "metadata": {},
     "output_type": "execute_result"
    }
   ],
   "source": [
    "# shuffle your dataframe in-place and reset the index\n",
    "# Here, specifying drop=True prevents .reset_index from creating a column containing the old index entries.\n",
    "data2 = data.sample(frac=1).reset_index(drop=True)\n",
    "data2.head()"
   ]
  },
  {
   "cell_type": "code",
   "execution_count": 64,
   "metadata": {},
   "outputs": [
    {
     "name": "stdout",
     "output_type": "stream",
     "text": [
      "(2400, 2)\n",
      "(600, 2)\n"
     ]
    }
   ],
   "source": [
    "# create training and testing vars\n",
    "Msg_train, Msg_test = train_test_split(data2, test_size=0.2)\n",
    "print(Msg_train.shape)\n",
    "print(Msg_test.shape)"
   ]
  },
  {
   "cell_type": "code",
   "execution_count": 65,
   "metadata": {},
   "outputs": [
    {
     "data": {
      "text/html": [
       "<div>\n",
       "<style scoped>\n",
       "    .dataframe tbody tr th:only-of-type {\n",
       "        vertical-align: middle;\n",
       "    }\n",
       "\n",
       "    .dataframe tbody tr th {\n",
       "        vertical-align: top;\n",
       "    }\n",
       "\n",
       "    .dataframe thead th {\n",
       "        text-align: right;\n",
       "    }\n",
       "</style>\n",
       "<table border=\"1\" class=\"dataframe\">\n",
       "  <thead>\n",
       "    <tr style=\"text-align: right;\">\n",
       "      <th></th>\n",
       "      <th>message</th>\n",
       "      <th>class</th>\n",
       "    </tr>\n",
       "  </thead>\n",
       "  <tbody>\n",
       "    <tr>\n",
       "      <th>1826</th>\n",
       "      <td>&gt; Gary Lawrence Murphy wrote:\\n\\n&gt; &gt;and say he...</td>\n",
       "      <td>ham</td>\n",
       "    </tr>\n",
       "    <tr>\n",
       "      <th>298</th>\n",
       "      <td>Scott MacKenzie wrote:\\n\\n\\n\\n&gt;There is a soft...</td>\n",
       "      <td>ham</td>\n",
       "    </tr>\n",
       "    <tr>\n",
       "      <th>1128</th>\n",
       "      <td>--==_Exmh_1920300774P\\n\\nContent-Type: text/pl...</td>\n",
       "      <td>ham</td>\n",
       "    </tr>\n",
       "    <tr>\n",
       "      <th>384</th>\n",
       "      <td>URL: http://www.newsisfree.com/click/-6,857278...</td>\n",
       "      <td>ham</td>\n",
       "    </tr>\n",
       "    <tr>\n",
       "      <th>292</th>\n",
       "      <td>On 14:22 29 Aug 2002, Matthias Saou &lt;matthias@...</td>\n",
       "      <td>ham</td>\n",
       "    </tr>\n",
       "  </tbody>\n",
       "</table>\n",
       "</div>"
      ],
      "text/plain": [
       "                                                message class\n",
       "1826  > Gary Lawrence Murphy wrote:\\n\\n> >and say he...   ham\n",
       "298   Scott MacKenzie wrote:\\n\\n\\n\\n>There is a soft...   ham\n",
       "1128  --==_Exmh_1920300774P\\n\\nContent-Type: text/pl...   ham\n",
       "384   URL: http://www.newsisfree.com/click/-6,857278...   ham\n",
       "292   On 14:22 29 Aug 2002, Matthias Saou <matthias@...   ham"
      ]
     },
     "execution_count": 65,
     "metadata": {},
     "output_type": "execute_result"
    }
   ],
   "source": [
    "Msg_test.head()"
   ]
  },
  {
   "cell_type": "code",
   "execution_count": 66,
   "metadata": {},
   "outputs": [
    {
     "data": {
      "text/plain": [
       "MultinomialNB(alpha=1.0, class_prior=None, fit_prior=True)"
      ]
     },
     "execution_count": 66,
     "metadata": {},
     "output_type": "execute_result"
    }
   ],
   "source": [
    "vectorizer = CountVectorizer()\n",
    "counts = vectorizer.fit_transform(Msg_train['message'].values)\n",
    "\n",
    "classifier = MultinomialNB()\n",
    "targets = Msg_train['class'].values\n",
    "classifier.fit(counts, targets)"
   ]
  },
  {
   "cell_type": "code",
   "execution_count": 67,
   "metadata": {},
   "outputs": [
    {
     "data": {
      "text/plain": [
       "array(['ham', 'ham', 'ham', 'ham', 'ham'], dtype='<U4')"
      ]
     },
     "execution_count": 67,
     "metadata": {},
     "output_type": "execute_result"
    }
   ],
   "source": [
    "examples = Msg_test['message'].head()\n",
    "example_counts = vectorizer.transform(examples)\n",
    "predictions = classifier.predict(example_counts)\n",
    "predictions"
   ]
  },
  {
   "cell_type": "markdown",
   "metadata": {},
   "source": [
    "#### Hence verified by Msg_test.head() given and predicted data is same"
   ]
  }
 ],
 "metadata": {
  "kernelspec": {
   "display_name": "Python 3",
   "language": "python",
   "name": "python3"
  },
  "language_info": {
   "codemirror_mode": {
    "name": "ipython",
    "version": 3
   },
   "file_extension": ".py",
   "mimetype": "text/x-python",
   "name": "python",
   "nbconvert_exporter": "python",
   "pygments_lexer": "ipython3",
   "version": "3.6.9"
  }
 },
 "nbformat": 4,
 "nbformat_minor": 1
}
