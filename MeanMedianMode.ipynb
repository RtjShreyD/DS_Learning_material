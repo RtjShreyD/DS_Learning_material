{
 "cells": [
  {
   "cell_type": "markdown",
   "metadata": {},
   "source": [
    "# Mean, Median, Mode, and introducing NumPy"
   ]
  },
  {
   "cell_type": "markdown",
   "metadata": {},
   "source": [
    "## Mean vs. Median"
   ]
  },
  {
   "cell_type": "markdown",
   "metadata": {},
   "source": [
    "Let's create some fake income data, centered around 27,000 with a normal distribution and standard deviation of 15,000, with 10,000 data points. (We'll discuss those terms more later, if you're not familiar with them.)\n",
    "\n",
    "Then, compute the mean (average) - it should be close to 27,000:"
   ]
  },
  {
   "cell_type": "code",
   "execution_count": 3,
   "metadata": {},
   "outputs": [
    {
     "data": {
      "text/plain": [
       "27139.377438521158"
      ]
     },
     "execution_count": 3,
     "metadata": {},
     "output_type": "execute_result"
    }
   ],
   "source": [
    "import numpy as np\n",
    "\n",
    "# random.normal creates a random set of values around a specified data point,\n",
    "# most values of this dataset will be somewhere around the data point\n",
    "# 27k is the datapoint, 15k is the standard deviation, 10k is the no of entries\n",
    "# The Standard Deviation is a measure of how spread out numbers are.\n",
    "incomes = np.random.normal(27000, 15000, 10000) \n",
    "np.mean(incomes)"
   ]
  },
  {
   "cell_type": "markdown",
   "metadata": {},
   "source": [
    "We can segment the income data into 50 buckets, and plot it as a histogram:"
   ]
  },
  {
   "cell_type": "code",
   "execution_count": 4,
   "metadata": {},
   "outputs": [
    {
     "data": {
      "image/png": "[encoded data removed]",
      "text/plain": [
       "<Figure size 432x288 with 1 Axes>"
      ]
     },
     "metadata": {
      "needs_background": "light"
     },
     "output_type": "display_data"
    }
   ],
   "source": [
    "%matplotlib inline\n",
    "import matplotlib.pyplot as plt\n",
    "plt.hist(incomes, 50) #Quantize the dataset into 50 different buckets(values)\n",
    "plt.show()"
   ]
  },
  {
   "cell_type": "markdown",
   "metadata": {},
   "source": [
    "Now compute the median - since we have a nice, even distribution it too should be close to 27,000:"
   ]
  },
  {
   "cell_type": "code",
   "execution_count": 5,
   "metadata": {},
   "outputs": [
    {
     "data": {
      "text/plain": [
       "27223.968583179034"
      ]
     },
     "execution_count": 5,
     "metadata": {},
     "output_type": "execute_result"
    }
   ],
   "source": [
    "np.median(incomes)"
   ]
  },
  {
   "cell_type": "markdown",
   "metadata": {},
   "source": [
    "Now we'll add Jeff Bezos into the mix. Darn income inequality!"
   ]
  },
  {
   "cell_type": "code",
   "execution_count": 6,
   "metadata": {},
   "outputs": [],
   "source": [
    "incomes = np.append(incomes, [1000000000])"
   ]
  },
  {
   "cell_type": "markdown",
   "metadata": {},
   "source": [
    "The median won't change much, but the mean does:"
   ]
  },
  {
   "cell_type": "code",
   "execution_count": 7,
   "metadata": {},
   "outputs": [
    {
     "data": {
      "text/plain": [
       "27223.999621997231"
      ]
     },
     "execution_count": 7,
     "metadata": {},
     "output_type": "execute_result"
    }
   ],
   "source": [
    "np.median(incomes)"
   ]
  },
  {
   "cell_type": "code",
   "execution_count": 8,
   "metadata": {},
   "outputs": [
    {
     "data": {
      "text/plain": [
       "127126.66477204397"
      ]
     },
     "execution_count": 8,
     "metadata": {},
     "output_type": "execute_result"
    }
   ],
   "source": [
    "np.mean(incomes)"
   ]
  },
  {
   "cell_type": "markdown",
   "metadata": {},
   "source": [
    "## Mode"
   ]
  },
  {
   "cell_type": "markdown",
   "metadata": {},
   "source": [
    "Next, let's generate some fake age data for 500 people between 18 to 90 yrs old:"
   ]
  },
  {
   "cell_type": "code",
   "execution_count": 12,
   "metadata": {},
   "outputs": [
    {
     "data": {
      "text/plain": [
       "array([78, 82, 19, 86, 50, 36, 41, 77, 35, 28, 26, 75, 66, 61, 48, 87, 88,\n",
       "       61, 86, 26, 20, 74, 43, 29, 74, 85, 78, 29, 32, 78, 85, 82, 44, 49,\n",
       "       61, 67, 47, 87, 19, 49, 68, 18, 83, 42, 39, 77, 34, 51, 74, 36, 49,\n",
       "       24, 56, 89, 49, 27, 57, 29, 79, 87, 81, 89, 55, 38, 87, 88, 36, 79,\n",
       "       38, 34, 20, 52, 77, 51, 38, 81, 26, 27, 88, 43, 36, 84, 55, 28, 45,\n",
       "       42, 89, 77, 43, 30, 34, 24, 30, 39, 49, 45, 65, 79, 34, 81, 27, 36,\n",
       "       21, 78, 68, 26, 74, 70, 81, 47, 28, 26, 23, 44, 26, 74, 58, 39, 31,\n",
       "       85, 19, 82, 23, 41, 39, 28, 87, 30, 35, 64, 89, 21, 80, 86, 30, 67,\n",
       "       80, 26, 66, 23, 68, 83, 50, 34, 44, 34, 58, 74, 49, 75, 72, 35, 35,\n",
       "       44, 38, 32, 72, 22, 34, 86, 82, 26, 74, 56, 23, 27, 83, 57, 88, 50,\n",
       "       18, 69, 18, 42, 52, 39, 29, 41, 57, 20, 75, 76, 39, 58, 87, 76, 67,\n",
       "       79, 28, 46, 80, 36, 40, 85, 31, 47, 63, 70, 45, 82, 46, 83, 30, 57,\n",
       "       34, 57, 78, 56, 86, 43, 84, 31, 64, 31, 86, 57, 57, 57, 44, 22, 89,\n",
       "       67, 20, 25, 51, 87, 19, 51, 27, 88, 59, 89, 68, 45, 45, 41, 62, 21,\n",
       "       72, 32, 70, 27, 55, 67, 44, 28, 68, 52, 29, 62, 19, 82, 57, 34, 71,\n",
       "       18, 84, 32, 61, 50, 77, 52, 48, 70, 58, 54, 51, 56, 61, 61, 88, 52,\n",
       "       34, 83, 89, 86, 66, 83, 21, 56, 20, 61, 19, 34, 81, 66, 29, 74, 76,\n",
       "       54, 54, 55, 35, 61, 62, 50, 76, 87, 85, 51, 61, 52, 65, 60, 56, 55,\n",
       "       74, 83, 74, 51, 64, 44, 34, 89, 61, 67, 59, 54, 42, 61, 81, 83, 62,\n",
       "       53, 53, 66, 31, 64, 60, 26, 39, 34, 32, 45, 50, 76, 29, 69, 52, 75,\n",
       "       81, 33, 64, 33, 49, 74, 30, 28, 53, 62, 19, 73, 18, 89, 72, 84, 84,\n",
       "       20, 79, 20, 30, 52, 37, 34, 65, 51, 75, 54, 65, 56, 64, 86, 52, 50,\n",
       "       48, 89, 85, 33, 85, 46, 46, 21, 51, 40, 64, 61, 87, 70, 68, 55, 50,\n",
       "       48, 65, 73, 22, 47, 86, 44, 43, 59, 61, 69, 69, 24, 82, 23, 25, 76,\n",
       "       36, 38, 83, 42, 81, 88, 57, 62, 69, 86, 52, 19, 21, 88, 27, 81, 41,\n",
       "       38, 46, 54, 37, 35, 82, 42, 42, 25, 75, 52, 61, 26, 74, 37, 54, 87,\n",
       "       30, 59, 48, 73, 66, 65, 42, 25, 68, 49, 34, 89, 89, 65, 64, 55, 69,\n",
       "       54, 19, 81, 49, 28, 66, 65, 50, 66, 52, 46, 60, 68, 29, 68, 59, 27,\n",
       "       29, 60, 33, 22, 86, 59, 64, 51, 48, 80, 68, 31, 21, 55, 74, 27, 88,\n",
       "       26, 28, 71, 50, 19, 62, 23])"
      ]
     },
     "execution_count": 12,
     "metadata": {},
     "output_type": "execute_result"
    }
   ],
   "source": [
    "ages = np.random.randint(18, high=90, size=500)\n",
    "ages"
   ]
  },
  {
   "cell_type": "code",
   "execution_count": 13,
   "metadata": {},
   "outputs": [
    {
     "data": {
      "text/plain": [
       "ModeResult(mode=array([34]), count=array([15]))"
      ]
     },
     "execution_count": 13,
     "metadata": {},
     "output_type": "execute_result"
    }
   ],
   "source": [
    "from scipy import stats\n",
    "stats.mode(ages)"
   ]
  },
  {
   "cell_type": "code",
   "execution_count": null,
   "metadata": {},
   "outputs": [],
   "source": []
  }
 ],
 "metadata": {
  "kernelspec": {
   "display_name": "Python 3",
   "language": "python",
   "name": "python3"
  },
  "language_info": {
   "codemirror_mode": {
    "name": "ipython",
    "version": 3
   },
   "file_extension": ".py",
   "mimetype": "text/x-python",
   "name": "python",
   "nbconvert_exporter": "python",
   "pygments_lexer": "ipython3",
   "version": "3.6.9"
  }
 },
 "nbformat": 4,
 "nbformat_minor": 1
}
